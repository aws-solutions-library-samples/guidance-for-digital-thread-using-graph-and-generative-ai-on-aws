{
 "cells": [
  {
   "cell_type": "markdown",
   "id": "3b3c2a21",
   "metadata": {},
   "source": [
    "Copyright Amazon.com, Inc. or its affiliates. All Rights Reserved.\n",
    "SPDX-License-Identifier: Apache-2.0\n",
    "\n",
    "# Neptune Bulk data loader for Manufacturing Digital Thread"
   ]
  },
  {
   "cell_type": "markdown",
   "id": "d59e9fe9",
   "metadata": {},
   "source": [
    "## Introduction"
   ]
  },
  {
   "cell_type": "markdown",
   "id": "1e26cea0",
   "metadata": {},
   "source": [
    "Manufacturing organizations have vast amounts of knowledge dispersed across the product lifecycle, which can result in limited visibility, knowledge gaps, and the inability to continuously improve. A digital thread offers an integrated approach to combine disparate data sources across enterprise systems to drive traceability, accessibility, collaboration, and agility.\n",
    "\n",
    "In this sample project, learn how to create an intelligent manufacturing digital thread using a combination of knowledge graph and generative AI technologies based on data generated throughout the product lifecycle, and their interconnected relationship. Explore use cases and discover actionable steps to start your intelligent digital thread journey.\n",
    "\n",
    "As an introductory guide, this notebook will guide you through some of the most common steps you will perform when working on these projects.  \n",
    "\n",
    "1. Loading data to a Neptune Knowledge graph\n",
    "2. Visualizing the results\n",
    "3. Running openCypher queries and algorithms"
   ]
  },
  {
   "cell_type": "markdown",
   "id": "eecf3029",
   "metadata": {},
   "source": [
    "## Check Connection to the Graph"
   ]
  },
  {
   "cell_type": "markdown",
   "id": "6d4a6f0f",
   "metadata": {},
   "source": [
    "Run below commands one at a time. Let's start by first validating the connection by checking the status API endpoint of your graph."
   ]
  },
  {
   "cell_type": "code",
   "execution_count": null,
   "id": "164c1e96",
   "metadata": {},
   "outputs": [],
   "source": [
    "%status"
   ]
  },
  {
   "cell_type": "markdown",
   "id": "818b9c6f",
   "metadata": {},
   "source": [
    "Examining the response we should see that the graph status is currently `healthy` as well as some metadata such as versions and the start time for the cluster.\n",
    "\n",
    "\n",
    "<details>\n",
    "    \n",
    "You can get help at any time using the `--help` option.\n",
    "\n",
    "```\n",
    "%status --help\n",
    "```\n",
    "\n",
    "**Note:**  If you are using a cell magic the cell body needs at least one character in it for `--help` to work.\n",
    "\n",
    "```\n",
    "%%oc --help\n",
    "x\n",
    "```\n",
    "    \n",
    "</details>"
   ]
  },
  {
   "cell_type": "markdown",
   "id": "30e2ff40",
   "metadata": {},
   "source": [
    "## Set data source s3 bucket\n",
    "The cell below list the Amazon S3 buckets. "
   ]
  },
  {
   "cell_type": "code",
   "execution_count": null,
   "id": "b820c36a",
   "metadata": {
    "tags": []
   },
   "outputs": [],
   "source": [
    "# Locate data source in s3 bucket ( e.g. mfg-digitalthread-data-<account_id> for sample_data)\n",
    "!aws s3 ls"
   ]
  },
  {
   "cell_type": "markdown",
   "id": "c68a7a0f",
   "metadata": {},
   "source": [
    "Before running the below command, please replace account_id with the aws account id. Refer the Amazon S3 bucket name from the previous list command."
   ]
  },
  {
   "cell_type": "code",
   "execution_count": null,
   "id": "33c1754d",
   "metadata": {
    "tags": []
   },
   "outputs": [],
   "source": [
    "# input your neptune bulk import data source in Amazon S3 (e.g. mfg-digitalthread-data-<account_id>). Make sure to replace the <account_id>\n",
    "s3_bucket = \"mfg-digitalthread-data-<account_id>\"\n",
    "s3_source = f\"s3://{s3_bucket}/sample_data\""
   ]
  },
  {
   "cell_type": "code",
   "execution_count": null,
   "id": "0b5b498c",
   "metadata": {
    "tags": []
   },
   "outputs": [],
   "source": [
    "# list the edges and vertices files \n",
    "!aws s3 ls {s3_source} --recursive --human-readable --summarize"
   ]
  },
  {
   "cell_type": "markdown",
   "id": "cd69d050-c87a-4229-9452-65bb85d2acf6",
   "metadata": {},
   "source": [
    "## Load data \n",
    "The cell below loads the sample digital thread data into your Neptune cluster. When you run the cell it will automatically install the `mfg_digital_thread` dataset into your graph which takes a few seconds."
   ]
  },
  {
   "cell_type": "code",
   "execution_count": null,
   "id": "7f68e211",
   "metadata": {
    "tags": []
   },
   "outputs": [],
   "source": [
    "# bulk import - vertices\n",
    "%load -f csv -s {s3_source}/vertices --run "
   ]
  },
  {
   "cell_type": "markdown",
   "id": "8dc4f646",
   "metadata": {},
   "source": [
    "Please wait until the vertices are loaded successfully!!!!"
   ]
  },
  {
   "cell_type": "code",
   "execution_count": null,
   "id": "0cce2c15",
   "metadata": {
    "tags": []
   },
   "outputs": [],
   "source": [
    "# bulk import - edges\n",
    "%load -f csv -s {s3_source}/edges --run"
   ]
  },
  {
   "cell_type": "markdown",
   "id": "7b5d7c62",
   "metadata": {},
   "source": [
    "Please wait until the edges are loaded successfully!!!!"
   ]
  },
  {
   "cell_type": "code",
   "execution_count": null,
   "id": "de7f058b",
   "metadata": {},
   "outputs": [],
   "source": [
    "# refresh statistics is required to make sure the graph is updated\n",
    "%statistics --mode refresh"
   ]
  },
  {
   "cell_type": "markdown",
   "id": "ec84a05e-a196-46ee-a76c-9ba20b486314",
   "metadata": {},
   "source": [
    "# Verify data\n",
    "Please wait for 2 minutes before running the summary command. Summary command lists the nodes and edges imported into the Neptune Graph database. "
   ]
  },
  {
   "cell_type": "code",
   "execution_count": null,
   "id": "382880c8",
   "metadata": {
    "tags": []
   },
   "outputs": [],
   "source": [
    "%summary"
   ]
  },
  {
   "cell_type": "markdown",
   "id": "460e56d8",
   "metadata": {},
   "source": [
    "# Visualize the graph\n",
    "The cell below displays the graph with the vertices and edges along with the properties. Please click on \"Graph\" tab to view the graph."
   ]
  },
  {
   "cell_type": "code",
   "execution_count": null,
   "id": "a5d46639",
   "metadata": {
    "scrolled": false,
    "tags": []
   },
   "outputs": [],
   "source": [
    "%%gremlin -p v,oute,inv\n",
    "g.V().outE().inV().path().\n",
    "by(valueMap(true)).\n",
    "by().\n",
    "by(valueMap(true))"
   ]
  },
  {
   "cell_type": "markdown",
   "id": "be7ba0dd",
   "metadata": {},
   "source": [
    "# Query the graph\n",
    "The below opencypher queries are just sample queries. It is not mandatory to run these queries as part of this workshop."
   ]
  },
  {
   "cell_type": "markdown",
   "id": "e93c1e9b",
   "metadata": {},
   "source": [
    "1. Who can access the project Turbo-Project?"
   ]
  },
  {
   "cell_type": "code",
   "execution_count": null,
   "id": "4ccc3076",
   "metadata": {},
   "outputs": [],
   "source": [
    "%%oc\n",
    "MATCH (p:Project {name: 'Turbo-Project'})-[r:team_member]->(e:Employee) \n",
    "RETURN e.name AS employee_name, \n",
    "r.access AS access"
   ]
  },
  {
   "cell_type": "markdown",
   "id": "7a4e93af",
   "metadata": {},
   "source": [
    "2. Can Emily access the project Turbo-Project?"
   ]
  },
  {
   "cell_type": "code",
   "execution_count": null,
   "id": "6fcee676",
   "metadata": {},
   "outputs": [],
   "source": [
    "%%oc\n",
    "MATCH (p:Project {name: 'Turbo-Project'})-[r:team_member]->(e:Employee {name: 'Emily'}) \n",
    "RETURN r.access"
   ]
  },
  {
   "cell_type": "markdown",
   "id": "4b687904",
   "metadata": {},
   "source": [
    "3. Who are the suppliers for the part Turbo-Motor-11234?"
   ]
  },
  {
   "cell_type": "code",
   "execution_count": null,
   "id": "8cf72d3c",
   "metadata": {},
   "outputs": [],
   "source": [
    "%%oc\n",
    "MATCH (p:Part {name:\"Turbo-Motor-11234\"})-[:supplied_by]->(s:Supplier) \n",
    "RETURN s.name"
   ]
  },
  {
   "cell_type": "markdown",
   "id": "86980a32",
   "metadata": {},
   "source": [
    "4. Which supplier is recommended for part Turbo-Motor-11234 based on quality score?"
   ]
  },
  {
   "cell_type": "code",
   "execution_count": null,
   "id": "4c286a3e",
   "metadata": {},
   "outputs": [],
   "source": [
    "%%oc \n",
    "MATCH (p:Part {name:\"Turbo-Motor-11234\"})-[:supplied_by]->(s:Supplier) WITH s, s.qualityscore AS score ORDER BY score DESC LIMIT 1 \n",
    "RETURN s.name AS RecommendedSupplier"
   ]
  },
  {
   "cell_type": "markdown",
   "id": "35100ce0",
   "metadata": {},
   "source": [
    "5. What is the lead time and corrective action response time for Max Holdings?"
   ]
  },
  {
   "cell_type": "code",
   "execution_count": null,
   "id": "c2533dfe",
   "metadata": {},
   "outputs": [],
   "source": [
    "%%oc\n",
    "MATCH (s:Supplier {name:\"Max Holdings\"})-[:supplier_kpi]->(k:supplierkpi) \n",
    "RETURN k.leadtime AS lead_time, \n",
    "k.correctiveactionresponsetime AS response_time"
   ]
  }
 ],
 "metadata": {
  "kernelspec": {
   "display_name": "Python 3",
   "language": "python",
   "name": "python3"
  },
  "language_info": {
   "codemirror_mode": {
    "name": "ipython",
    "version": 3
   },
   "file_extension": ".py",
   "mimetype": "text/x-python",
   "name": "python",
   "nbconvert_exporter": "python",
   "pygments_lexer": "ipython3",
   "version": "3.10.8"
  }
 },
 "nbformat": 4,
 "nbformat_minor": 5
}
